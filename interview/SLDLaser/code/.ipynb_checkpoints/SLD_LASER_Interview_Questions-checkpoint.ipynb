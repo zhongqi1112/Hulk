{
 "cells": [
  {
   "cell_type": "markdown",
   "metadata": {},
   "source": [
    "The information in this notebook and attache files are confidential and may be legally privileged. It is intended solely for the addressee. Access to this content by anyone else is unauthorized. If you are not the intended recipient, any disclosure, copying, distribution, or action taken or omitted to be taken in reliance on it, is prohibited and may be unlawful."
   ]
  },
  {
   "cell_type": "markdown",
   "metadata": {},
   "source": [
    "### 1. Laser device case study (15-30mins)"
   ]
  },
  {
   "cell_type": "code",
   "execution_count": null,
   "metadata": {},
   "outputs": [],
   "source": [
    "# We have a bunch of test files, one example is C20F2A005C50-5_21-7_T0_CWandPulsed_20-70C_3A.xml_20C_CW-21.csv\n",
    "# the file name format is wafer_bar-chip_xxxx.xml_xxC_CW-xx.csv\n",
    "# so wafer = C20F2A005C50-5; bar = 21; chip = 7\n",
    "# Data saved in the file are light, current, and voltage\n",
    "# Please write scripts to visulize Light vs Current and Voltage vs Current in one figure\n",
    "# Please write an algorithm to return the threshold of the laser, \n",
    "# reference: https://www.rp-photonics.com/laser_threshold.html#:~:text=The%20threshold%20of%20a%20laser,lasers)%20a%20certain%20threshold%20current.\n",
    "# please finish the Class below\n",
    "class Device:\n",
    "    pass\n",
    "    "
   ]
  },
  {
   "cell_type": "code",
   "execution_count": null,
   "metadata": {},
   "outputs": [],
   "source": [
    "# Expected output:\n",
    "device = Device('C20F2A005C50-5_21-7_T0_CWandPulsed_20-70C_3A.xml_20C_CW-21.csv')\n",
    "print(device.wafer) # this prints C20F2A005C50-5\n",
    "print(device.bar) # this prints 21\n",
    "print(device.chip) # this prints 7\n",
    "print(device.max_wpe())  # this prints maximum wall plug efficiency: Light/ (voltage * current)\n",
    "print(device.threshold()) # this outputs the laser threshold\n"
   ]
  },
  {
   "cell_type": "code",
   "execution_count": null,
   "metadata": {},
   "outputs": [],
   "source": [
    "device.liv() # this plots Light vs Current and Voltage vs Current in one figure"
   ]
  },
  {
   "cell_type": "code",
   "execution_count": null,
   "metadata": {},
   "outputs": [],
   "source": [
    "device.image() # this shows the device image C20F2A005C50-5_21-7.png"
   ]
  },
  {
   "cell_type": "code",
   "execution_count": null,
   "metadata": {},
   "outputs": [],
   "source": [
    "device.digit()# this shows the digit area image. See an example C20F2A005C50-5_21-7_digits.png"
   ]
  },
  {
   "cell_type": "markdown",
   "metadata": {},
   "source": [
    "### 2. Credit card default case study (15-30 mins)"
   ]
  },
  {
   "cell_type": "code",
   "execution_count": null,
   "metadata": {},
   "outputs": [],
   "source": [
    "# Use the UCI_Credit_Card.csv to build a model, evaluate and present your model\n",
    "# Note that the algorithm you selected and model performance is not important.You don't need to spend time tuning model\n"
   ]
  },
  {
   "cell_type": "code",
   "execution_count": null,
   "metadata": {},
   "outputs": [],
   "source": []
  },
  {
   "cell_type": "code",
   "execution_count": null,
   "metadata": {},
   "outputs": [],
   "source": []
  },
  {
   "cell_type": "markdown",
   "metadata": {},
   "source": [
    "\n"
   ]
  },
  {
   "cell_type": "markdown",
   "metadata": {},
   "source": [
    "### 3. The tower of Hanoi problem: If you have more time, please write code to solve the problem.\n",
    "\n",
    "The Tower of Hanoi (also called the Tower of Brahma or Lucas' Tower[1] and sometimes pluralized as Towers) is a mathematical game or puzzle. It consists of three rods and a number of disks of different sizes, which can slide onto any rod. The puzzle starts with the disks in a neat stack in ascending order of size on one rod, the smallest at the top, thus making a conical shape.\n",
    "\n",
    "The objective of the puzzle is to move the entire stack to another rod, obeying the following simple rules:\n",
    "\n",
    "Only one disk can be moved at a time.\n",
    "Each move consists of taking the upper disk from one of the stacks and placing it on top of another stack or on an empty rod.\n",
    "No larger disk may be placed on top of a smaller disk.\n",
    "With 3 disks, the puzzle can be solved in 7 moves. The minimal number of moves required to solve a Tower of Hanoi puzzle is 2n − 1, where n is the number of disks.\n"
   ]
  },
  {
   "cell_type": "code",
   "execution_count": null,
   "metadata": {},
   "outputs": [],
   "source": []
  }
 ],
 "metadata": {
  "kernelspec": {
   "display_name": "Python 3",
   "language": "python",
   "name": "python3"
  },
  "language_info": {
   "codemirror_mode": {
    "name": "ipython",
    "version": 3
   },
   "file_extension": ".py",
   "mimetype": "text/x-python",
   "name": "python",
   "nbconvert_exporter": "python",
   "pygments_lexer": "ipython3",
   "version": "3.7.6"
  }
 },
 "nbformat": 4,
 "nbformat_minor": 2
}
