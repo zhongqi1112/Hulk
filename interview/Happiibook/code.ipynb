{
 "metadata": {
  "language_info": {
   "codemirror_mode": {
    "name": "ipython",
    "version": 3
   },
   "file_extension": ".py",
   "mimetype": "text/x-python",
   "name": "python",
   "nbconvert_exporter": "python",
   "pygments_lexer": "ipython3",
   "version": "3.8.3-final"
  },
  "orig_nbformat": 2,
  "kernelspec": {
   "name": "python3",
   "display_name": "Python 3"
  }
 },
 "nbformat": 4,
 "nbformat_minor": 2,
 "cells": [
  {
   "source": [
    "* Stephene Wanng\n",
    "* 11/12/2020\n",
    "* I am going to use RandomForestClassifier of sklearn package to solve the following problem because the lable is 0/1. \n",
    "* Estimated AUC is 0.9"
   ],
   "cell_type": "markdown",
   "metadata": {}
  },
  {
   "cell_type": "code",
   "execution_count": 1,
   "metadata": {},
   "outputs": [],
   "source": [
    "import numpy as np \n",
    "import pandas as pd \n",
    "from sklearn import linear_model\n",
    "from sklearn.preprocessing import LabelEncoder\n",
    "from sklearn.ensemble import RandomForestClassifier\n",
    "from sklearn.metrics import roc_auc_score\n",
    "\n"
   ]
  },
  {
   "cell_type": "code",
   "execution_count": 2,
   "metadata": {},
   "outputs": [
    {
     "output_type": "stream",
     "name": "stdout",
     "text": [
      "First five prediction:  [0 0 0 0 0]\n"
     ]
    }
   ],
   "source": [
    "# Load CSV training dataset\n",
    "dataset = pd.read_csv('train.csv')\n",
    "\n",
    "data = dataset.iloc[:, :]\n",
    "\n",
    "# convert string to number\n",
    "data.replace(('iPhone', 'Android', 'desktop', 'laptop', 'other'), (0, 1, 2, 3, 4), inplace=True)\n",
    "data.replace(('M', 'F'), (0, 1), inplace=True)\n",
    "\n",
    "# handle missing value\n",
    "data = data.dropna()\n",
    "\n",
    "X_train = data.iloc[:, :-1].values\n",
    "y_train = data.iloc[:, -1].values \n",
    "\n",
    "labelencoder_y = LabelEncoder()\n",
    "y_train = labelencoder_y.fit_transform(y_train)\n",
    "\n",
    "\n",
    "# Load CSV testing dataset\n",
    "dataset = pd.read_csv('test.csv')\n",
    "\n",
    "data = dataset.iloc[:, :]\n",
    "data.replace(('iPhone', 'Android', 'desktop', 'laptop', 'other'), (0, 1, 2, 3, 4), inplace=True)\n",
    "data.replace(('M', 'F'), (0, 1), inplace=True)\n",
    "data = data.dropna()\n",
    "\n",
    "X_test = data.iloc[:, :].values\n",
    "\n",
    "\n",
    "# Create RandomForestClassifier\n",
    "clf = RandomForestClassifier()\n",
    "clf = clf.fit(X_train, y_train)\n",
    "\n",
    "# use model to predict the testing dataset\n",
    "predicted = clf.predict(X_test)\n",
    "\n",
    "print('First five prediction: ', predicted[:5])"
   ]
  },
  {
   "cell_type": "code",
   "execution_count": 3,
   "metadata": {},
   "outputs": [
    {
     "output_type": "stream",
     "name": "stdout",
     "text": [
      "AUC score is: 0.9989722507708119\n"
     ]
    }
   ],
   "source": [
    "# AUC score\n",
    "auc_predicted = clf.predict(X_train)\n",
    "auc = roc_auc_score(y_train, auc_predicted)\n",
    "print('AUC score is: %s' %auc)"
   ]
  },
  {
   "cell_type": "code",
   "execution_count": 4,
   "metadata": {},
   "outputs": [
    {
     "output_type": "stream",
     "name": "stdout",
     "text": [
      "The likelihood of the outcome variable being equal to 1 is: 0.03948312993539124\n"
     ]
    }
   ],
   "source": [
    "# the likelihood of the outcome variable being equal to 1.\n",
    "predicted_array = np.array(predicted)\n",
    "\n",
    "count_one = np.count_nonzero(predicted_array == 1)\n",
    "likelihood = count_one / len(predicted_array)\n",
    "\n",
    "print('The likelihood of the outcome variable being equal to 1 is: %s' %likelihood)"
   ]
  },
  {
   "cell_type": "code",
   "execution_count": null,
   "metadata": {},
   "outputs": [],
   "source": []
  }
 ]
}