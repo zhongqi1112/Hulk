{
 "metadata": {
  "language_info": {
   "codemirror_mode": {
    "name": "ipython",
    "version": 3
   },
   "file_extension": ".py",
   "mimetype": "text/x-python",
   "name": "python",
   "nbconvert_exporter": "python",
   "pygments_lexer": "ipython3",
   "version": "3.8.3-final"
  },
  "orig_nbformat": 2,
  "kernelspec": {
   "name": "python3",
   "display_name": "Python 3"
  }
 },
 "nbformat": 4,
 "nbformat_minor": 2,
 "cells": [
  {
   "source": [
    "* Stephene Wanng\n",
    "* 11/12/2020\n",
    "* I am going to use RandomForestClassifier of sklearn package to solve the following problem because the lable is discrete \n",
    "* Estimated AUC is 0.9"
   ],
   "cell_type": "markdown",
   "metadata": {}
  },
  {
   "cell_type": "code",
   "execution_count": 1,
   "metadata": {},
   "outputs": [],
   "source": [
    "import numpy as np \n",
    "import pandas as pd \n",
    "from sklearn import linear_model\n",
    "from sklearn.preprocessing import LabelEncoder\n",
    "from sklearn.ensemble import RandomForestClassifier\n",
    "from sklearn.metrics import roc_auc_score"
   ]
  },
  {
   "cell_type": "code",
   "execution_count": 2,
   "metadata": {},
   "outputs": [
    {
     "output_type": "stream",
     "name": "stdout",
     "text": [
      "               age   cost_of_ad  device_type       gender  \\\ncount  9731.000000  9731.000000  9731.000000  9731.000000   \nmean     37.978933     0.004678     2.000411     0.510739   \nstd      13.036855     0.000838     1.407147     0.499910   \nmin      16.000000     0.003171     0.000000     0.000000   \n25%      27.000000     0.004010     1.000000     0.000000   \n50%      38.000000     0.004640     2.000000     1.000000   \n75%      49.000000     0.005168     3.000000     1.000000   \nmax      60.000000     0.007082     4.000000     1.000000   \n\n       in_initial_launch_location        income    n_drivers   n_vehicles  \\\ncount                 9731.000000   9731.000000  9731.000000  9731.000000   \nmean                     0.498202  58015.171000     1.496557     1.998150   \nstd                      0.500022  17299.989819     0.500014     0.817333   \nmin                      0.000000  16241.000000     1.000000     1.000000   \n25%                      0.000000  45564.500000     1.000000     1.000000   \n50%                      0.000000  58094.000000     1.000000     2.000000   \n75%                      1.000000  70224.000000     2.000000     3.000000   \nmax                      1.000000  99956.000000     2.000000     3.000000   \n\n       prior_ins_tenure      outcome  \ncount       9731.000000  9731.000000  \nmean           5.401706     0.099990  \nstd            5.042682     0.300002  \nmin            0.000000     0.000000  \n25%            1.000000     0.000000  \n50%            4.000000     0.000000  \n75%            8.000000     0.000000  \nmax           22.000000     1.000000  \n<class 'pandas.core.frame.DataFrame'>\nInt64Index: 9731 entries, 0 to 9998\nData columns (total 10 columns):\n #   Column                      Non-Null Count  Dtype  \n---  ------                      --------------  -----  \n 0   age                         9731 non-null   int64  \n 1   cost_of_ad                  9731 non-null   float64\n 2   device_type                 9731 non-null   int64  \n 3   gender                      9731 non-null   float64\n 4   in_initial_launch_location  9731 non-null   int64  \n 5   income                      9731 non-null   int64  \n 6   n_drivers                   9731 non-null   int64  \n 7   n_vehicles                  9731 non-null   int64  \n 8   prior_ins_tenure            9731 non-null   int64  \n 9   outcome                     9731 non-null   int64  \ndtypes: float64(2), int64(8)\nmemory usage: 836.3 KB\nNone\n"
     ]
    }
   ],
   "source": [
    "# Load CSV training dataset\n",
    "training_dataset = pd.read_csv('train.csv')\n",
    "training_data = training_dataset.iloc[:, :]\n",
    "# convert string to number\n",
    "training_data.replace(('iPhone', 'Android', 'desktop', 'laptop', 'other'), (0, 1, 2, 3, 4), inplace=True)\n",
    "training_data.replace(('M', 'F'), (0, 1), inplace=True)\n",
    "# handle missing value\n",
    "training_data = training_data.dropna()\n",
    "\n",
    "# Load CSV testing dataset\n",
    "testing_dataset = pd.read_csv('test.csv')\n",
    "testing_data = testing_dataset.iloc[:, :]\n",
    "# convert string to number\n",
    "testing_data.replace(('iPhone', 'Android', 'desktop', 'laptop', 'other'), (0, 1, 2, 3, 4), inplace=True)\n",
    "# handle missing value\n",
    "testing_data.replace(('M', 'F'), (0, 1), inplace=True)\n",
    "testing_data = testing_data.dropna()\n",
    "\n",
    "print(training_data.describe())\n",
    "print(training_data.info())"
   ]
  },
  {
   "cell_type": "code",
   "execution_count": 3,
   "metadata": {},
   "outputs": [
    {
     "output_type": "stream",
     "name": "stdout",
     "text": [
      "First five prediction: [0 0 0 0 0]\n"
     ]
    }
   ],
   "source": [
    "# get training data\n",
    "X_train = training_data.iloc[:, :-1].values\n",
    "y_train = training_data.iloc[:, -1].values \n",
    "y_train = LabelEncoder().fit_transform(y_train)\n",
    "\n",
    "# get testing data\n",
    "X_test = testing_data.iloc[:, :].values\n",
    "\n",
    "# Create RandomForestClassifier\n",
    "clf = RandomForestClassifier()\n",
    "clf.fit(X_train, y_train)\n",
    "\n",
    "# use model to predict the testing dataset\n",
    "predicted = clf.predict(X_test)\n",
    "\n",
    "print('First five prediction:', predicted[:5])"
   ]
  },
  {
   "cell_type": "code",
   "execution_count": 4,
   "metadata": {},
   "outputs": [
    {
     "output_type": "stream",
     "name": "stdout",
     "text": [
      "AUC score is: 0.9994861253854059\n"
     ]
    }
   ],
   "source": [
    "# AUC score\n",
    "auc_predicted = clf.predict(X_train)\n",
    "auc = roc_auc_score(y_train, auc_predicted)\n",
    "print('AUC score is:', auc)"
   ]
  },
  {
   "cell_type": "code",
   "execution_count": 5,
   "metadata": {},
   "outputs": [
    {
     "output_type": "stream",
     "name": "stdout",
     "text": [
      "The likelihood of the outcome variable being equal to 1 is: 3.9072919999999995 %\n"
     ]
    }
   ],
   "source": [
    "# the likelihood of the outcome variable being equal to 1.\n",
    "predicted_array = np.array(predicted)\n",
    "outcome_one_num = np.count_nonzero(predicted_array == 1)\n",
    "likelihood = round(outcome_one_num / len(predicted_array), 8) * 100\n",
    "\n",
    "print('The likelihood of the outcome variable being equal to 1 is: %s %%' %likelihood)"
   ]
  },
  {
   "cell_type": "code",
   "execution_count": null,
   "metadata": {},
   "outputs": [],
   "source": []
  }
 ]
}