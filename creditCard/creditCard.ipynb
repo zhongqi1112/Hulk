{
 "metadata": {
  "language_info": {
   "codemirror_mode": {
    "name": "ipython",
    "version": 3
   },
   "file_extension": ".py",
   "mimetype": "text/x-python",
   "name": "python",
   "nbconvert_exporter": "python",
   "pygments_lexer": "ipython3",
   "version": 3
  },
  "orig_nbformat": 2
 },
 "nbformat": 4,
 "nbformat_minor": 2,
 "cells": [
  {
   "source": [
    "<h2 align=\"center\">Chase Bank</h2>\n",
    "<p align=\"center\"><image width=\"150\" src=\"https://github.com/zhongqi1112/Hulk/blob/master/creditCard/cardImages/chase.png\" alt=\"chase bank logo\"></p>\n",
    "\n",
    "### Chase Freedom Flex\n",
    "* Earn a $200 bonus after you spend 500 on purchases in the first 3 months from account opening\n",
    "* Earn 5% on up to $1,500 on combined purchases in bonus categories each quarter\n",
    "* Earn 5% on travel purchased through Chase Ultimate Rewards\n",
    "* Earn 3% on dining at restaurants, including takeout and eligible delivery services\n",
    "* Earn 3% on drugstore purchases\n",
    "* Earn 1% on all other purchases\n",
    "* No annual fee\n",
    "\n",
    "### Chase Sapphire Preferred (CSP)\n",
    "* After you spend $4,000 on purchases in the first 3 months from account opening. That's 1,000 toward travel\n",
    "* Earn 2x points on travel and dining at restaurants- from airfare and hotels to fine dining and cafés\n",
    "* Earn 1 point per dollar spent on all other purchases\n",
    "* Get 25% more value when you redeem for airfare, hotels, car rentals and cruises through Chase Ultimate Rewards.\n",
    "* Annual fee $95\n",
    "\n",
    "### Amazon Prime Rewards Visa\n",
    "* Earn 5% Back at Amazon.com and Whole Foods Market with an eligible Prime membership\n",
    "* Earn 2% Back at restaurants, gas stations and drugstores\n",
    "* Earn 1% Back on all other purchases\n",
    "* No annual fee"
   ],
   "cell_type": "markdown",
   "metadata": {}
  },
  {
   "source": [
    "## Bank of America\n",
    "\n",
    "### Cash Rewards\n",
    "* $200 online cash rewards bonus offer\n",
    "* 3% cash back in the category of your choice\n",
    "* 2% cash back at grocery stores and wholesale clubs\n",
    "* unlimited 1% cash back on all other purchases \n",
    "* Your choice categories include: gas, online shopping, dining, travel, drug stores, or home improvement/furnishings\n",
    "* No annual fee\n",
    "\n",
    "### Travel Rewards\n",
    "* 25,000 online bonus points offer (a $250 value)\n",
    "* Earn unlimited 1.5 points for every $1 you spend on all purchases everywhere, every time and no expiration on points\n",
    "* No annual fee\n",
    "\n",
    "### Premium Rewards\n",
    "* 50,000 online bonus points offer (a $500 value)\n",
    "* Earn unlimited 2 points for every $1 spent on travel and dining purchases\n",
    "* 1.5 points per $1 on all other purchases\n",
    "* Get up to $200 in combined Airline Incidental and TSA Pre/Global Entry Statement Credits\n",
    "* Annual fee $95\n"
   ],
   "cell_type": "markdown",
   "metadata": {}
  },
  {
   "source": [
    "## Citi Bank\n",
    "### Costco Anywhere Visa\n",
    "* Earn 4% cash back on eligible gas for the first $7,000 per year\n",
    "* 3% cash back on restaurants and eligible travel\n",
    "* 2% cash back on all other purchases from Costco and Costco.com\n",
    "* 1% cash back on all other purchases\n",
    "* No annual fee"
   ],
   "cell_type": "markdown",
   "metadata": {}
  }
 ]
}