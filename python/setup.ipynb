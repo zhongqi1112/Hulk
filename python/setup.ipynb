{
 "metadata": {
  "language_info": {
   "codemirror_mode": {
    "name": "ipython",
    "version": 3
   },
   "file_extension": ".py",
   "mimetype": "text/x-python",
   "name": "python",
   "nbconvert_exporter": "python",
   "pygments_lexer": "ipython3",
   "version": "3.7.6-final"
  },
  "orig_nbformat": 2,
  "kernelspec": {
   "name": "python_defaultSpec_1598047454564",
   "display_name": "Python 3.7.6 64-bit ('base': conda)"
  }
 },
 "nbformat": 4,
 "nbformat_minor": 2,
 "cells": [
  {
   "cell_type": "markdown",
   "metadata": {},
   "source": [
    "# Setup Environment"
   ]
  },
  {
   "cell_type": "markdown",
   "metadata": {},
   "source": [
    "## Python"
   ]
  },
  {
   "cell_type": "markdown",
   "metadata": {
    "tags": []
   },
   "source": [
    "```\n",
    "# python version\n",
    "python -V\n",
    "python3 -V\n",
    "pip -V\n",
    "\n",
    "# update pip\n",
    "pip install -U pip\n",
    "python3 -m pip install -U pip\n",
    "# list installed packages\n",
    "pip list\n",
    "```"
   ]
  },
  {
   "cell_type": "markdown",
   "metadata": {},
   "source": [
    "## Anaconda"
   ]
  },
  {
   "cell_type": "markdown",
   "metadata": {},
   "source": [
    "```\n",
    "# conda information\n",
    "conda info \n",
    "# update conda\n",
    "conda update -n base -c defaults conda\n",
    "conda update --all\n",
    "# see path of conda environment\n",
    "conda info --envs\n",
    "# remove environment\n",
    "conda env remove -n <environment_name>\n",
    "# list installed packages\n",
    "conda list\n",
    "```"
   ]
  },
  {
   "cell_type": "markdown",
   "metadata": {},
   "source": [
    "## Environment"
   ]
  },
  {
   "cell_type": "markdown",
   "metadata": {},
   "source": [
    "### Create an environment by YAML\n",
    "\n",
    "```\n",
    "conda env create -f env.yml\n",
    "# activate environment\n",
    "conda activate env_name\n",
    "```"
   ]
  },
  {
   "cell_type": "markdown",
   "metadata": {},
   "source": [
    "### Create an environment by txt\n",
    "\n",
    "```\n",
    "conda create --name env_name python=3.8\n",
    "# activate environment\n",
    "conda activate env_name\n",
    "# install libraries required:\n",
    "pip install -r requirements.txt\n",
    "# checking libraries installed\n",
    "pip freeze\n",
    "```"
   ]
  },
  {
   "cell_type": "markdown",
   "metadata": {},
   "source": [
    "## PyCharm"
   ]
  },
  {
   "cell_type": "markdown",
   "metadata": {},
   "source": [
    "### setup Interpreter\n",
    "* PyCharm -> Preferences -> Project: Name -> Project Interpreter -> Gear Icon -> Add -> Conda Environment -> Existing environment -> ...\n",
    "* check environment path by: `conda info --envs`\n",
    "* select environment path followed by `bin/python`, for example\n",
    "    `/Users/zq/opt/anaconda3/envs/rait_env/bin/python`\n",
    "* select checkbox \"Make available to all projects\"\n",
    "* apply the changes\n",
    "\n",
    "Ref: https://www.youtube.com/watch?v=yQo1kb0_8EI"
   ]
  },
  {
   "cell_type": "markdown",
   "metadata": {},
   "source": [
    "### Add configuration\n",
    "add configuration -> + icon\n",
    "* Script path: the python file will be compiled\n",
    "* Python interpreter: the interpreter is created"
   ]
  }
 ]
}