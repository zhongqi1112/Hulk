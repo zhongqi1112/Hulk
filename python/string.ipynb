{
 "metadata": {
  "language_info": {
   "codemirror_mode": {
    "name": "ipython",
    "version": 3
   },
   "file_extension": ".py",
   "mimetype": "text/x-python",
   "name": "python",
   "nbconvert_exporter": "python",
   "pygments_lexer": "ipython3",
   "version": "3.8.3-final"
  },
  "orig_nbformat": 2,
  "kernelspec": {
   "name": "python_defaultSpec_1601146245524",
   "display_name": "Python 3.7.6 64-bit ('base': conda)"
  }
 },
 "nbformat": 4,
 "nbformat_minor": 2,
 "cells": [
  {
   "cell_type": "markdown",
   "metadata": {},
   "source": [
    "# String Methods\n",
    "Python has a set of built-in methods that you can use on strings.\n",
    "\n",
    "**Note**: All string methods returns new values. They do not change the original string.\n",
    "\n",
    "Ref:\n",
    "* https://www.w3schools.com/python/python_strings.asp\n",
    "* https://www.programiz.com/python-programming/methods/string"
   ]
  },
  {
   "source": [
    "## Substring\n",
    "\n",
    "```\n",
    "center()        Returns a centered string using a specified character (space is default) as the fill character\n",
    "ljust()\t        Returns a left justified version of the string using a specified character (space is default) as the fill character.\n",
    "rjust()\t        Returns a right justified version of the string using a specified character (space is default) as the fill character.\n",
    "zfill()         Fills the string with a specified number of 0 values at the beginning\n",
    "count()\t        Returns the number of times a specified value occurs in a string\n",
    "endswith()      Returns true if the string ends with the specified value\n",
    "startswith()    Returns true if the string starts with the specified value\n",
    "find()\t        Searches the string for a specified value and returns the position of where it was found\n",
    "rfind()         Searches the string for a specified value and returns the last position of where it was found\n",
    "index()\t        Searches the string for a specified value and returns the position of where it was found\n",
    "rindex()        Searches the string for a specified value and returns the last position of where it was found\n",
    "maketrans()     Returns a translation table to be used in translations\n",
    "translate()     Returns a translated string\n",
    "partition()     Returns a tuple where the string is parted into three parts\n",
    "rpartition()    Returns a tuple where the string is parted into three parts\n",
    "strip()\t        Returns a trimmed version of the string\n",
    "lstrip()        Returns a left trim version of the string\n",
    "rstrip()        Returns a right trim version of the string\n",
    "replace()       Returns a string where a specified value is replaced with a specified value\n",
    "split()         Splits the string at the specified separator, and returns a list\n",
    "rsplit()        Splits the string at the specified separator, and returns a list\n",
    "```"
   ],
   "cell_type": "markdown",
   "metadata": {}
  },
  {
   "source": [
    "## Uppercase and Lowercase\n",
    "\n",
    "```\n",
    "casefold()      Converts a string into lower case\n",
    "lower()         Converts a string into lower case\n",
    "upper()         Converts a string into upper case\n",
    "swapcase()      Swaps cases, lower case becomes upper case and vice versa\n",
    "capitalize()    Converts the first character to upper case\n",
    "title()         Converts the first character of each word to upper case\n",
    "islower()\tReturns True if all characters in the string are lower case\n",
    "isupper()\tReturns True if all characters in the string are upper case\n",
    "```"
   ],
   "cell_type": "markdown",
   "metadata": {}
  },
  {
   "source": [
    "## Check string\n",
    "\n",
    "```\n",
    "isalnum()\tReturns True if all characters in the string are alphanumeric\n",
    "isalpha()\tReturns True if all characters in the string are in the alphabet\n",
    "isnumeric()\tReturns True if all characters in the string are numeric\n",
    "isdigit()\tReturns True if all characters in the string are digits\n",
    "isdecimal()\tReturns True if all characters in the string are decimals\n",
    "isidentifier()\tReturns True if the string is an identifier\n",
    "isprintable()\tReturns True if all characters in the string are printable\n",
    "isspace()\tReturns True if all characters in the string are whitespaces\n",
    "istitle()\tReturns True if the string follows the rules of a title\n",
    "```"
   ],
   "cell_type": "markdown",
   "metadata": {}
  },
  {
   "source": [
    "## Others\n",
    "\n",
    "```\n",
    "format()        Formats specified values in a string\n",
    "format_map()\tFormats specified values in a string\n",
    "join()          Joins the elements of an iterable to the end of the string\n",
    "splitlines()    Splits the string at line breaks and returns a list\n",
    "expandtabs()    Sets the tab size of the string\n",
    "encode()        Returns an encoded version of the string\n",
    "```"
   ],
   "cell_type": "markdown",
   "metadata": {}
  }
 ]
}